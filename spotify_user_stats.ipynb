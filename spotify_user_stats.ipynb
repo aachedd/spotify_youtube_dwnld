{
 "cells": [
  {
   "cell_type": "markdown",
   "metadata": {},
   "source": [
    "# Installs, Imports and Creds"
   ]
  },
  {
   "cell_type": "code",
   "execution_count": 1,
   "metadata": {},
   "outputs": [
    {
     "name": "stdout",
     "output_type": "stream",
     "text": [
      "Requirement already satisfied: spotipy in c:\\users\\aache\\documents\\spotify_youtube_dwnld\\.venv\\lib\\site-packages (2.24.0)\n",
      "Requirement already satisfied: redis>=3.5.3 in c:\\users\\aache\\documents\\spotify_youtube_dwnld\\.venv\\lib\\site-packages (from spotipy) (5.2.0)\n",
      "Requirement already satisfied: requests>=2.25.0 in c:\\users\\aache\\documents\\spotify_youtube_dwnld\\.venv\\lib\\site-packages (from spotipy) (2.32.3)\n",
      "Requirement already satisfied: urllib3>=1.26.0 in c:\\users\\aache\\documents\\spotify_youtube_dwnld\\.venv\\lib\\site-packages (from spotipy) (2.2.3)\n",
      "Requirement already satisfied: charset-normalizer<4,>=2 in c:\\users\\aache\\documents\\spotify_youtube_dwnld\\.venv\\lib\\site-packages (from requests>=2.25.0->spotipy) (3.4.0)\n",
      "Requirement already satisfied: idna<4,>=2.5 in c:\\users\\aache\\documents\\spotify_youtube_dwnld\\.venv\\lib\\site-packages (from requests>=2.25.0->spotipy) (3.10)\n",
      "Requirement already satisfied: certifi>=2017.4.17 in c:\\users\\aache\\documents\\spotify_youtube_dwnld\\.venv\\lib\\site-packages (from requests>=2.25.0->spotipy) (2024.8.30)\n",
      "Note: you may need to restart the kernel to use updated packages.\n",
      "Requirement already satisfied: pandas in c:\\users\\aache\\documents\\spotify_youtube_dwnld\\.venv\\lib\\site-packages (2.2.3)\n",
      "Requirement already satisfied: numpy>=1.23.2 in c:\\users\\aache\\documents\\spotify_youtube_dwnld\\.venv\\lib\\site-packages (from pandas) (2.1.3)\n",
      "Requirement already satisfied: python-dateutil>=2.8.2 in c:\\users\\aache\\documents\\spotify_youtube_dwnld\\.venv\\lib\\site-packages (from pandas) (2.9.0.post0)\n",
      "Requirement already satisfied: pytz>=2020.1 in c:\\users\\aache\\documents\\spotify_youtube_dwnld\\.venv\\lib\\site-packages (from pandas) (2024.2)\n",
      "Requirement already satisfied: tzdata>=2022.7 in c:\\users\\aache\\documents\\spotify_youtube_dwnld\\.venv\\lib\\site-packages (from pandas) (2024.2)\n",
      "Requirement already satisfied: six>=1.5 in c:\\users\\aache\\documents\\spotify_youtube_dwnld\\.venv\\lib\\site-packages (from python-dateutil>=2.8.2->pandas) (1.16.0)\n",
      "Note: you may need to restart the kernel to use updated packages.\n"
     ]
    }
   ],
   "source": [
    "%pip install spotipy\n",
    "%pip install pandas"
   ]
  },
  {
   "cell_type": "code",
   "execution_count": null,
   "metadata": {},
   "outputs": [],
   "source": [
    "from spotipy.oauth2 import SpotifyClientCredentials, SpotifyOAuth\n",
    "import spotipy\n",
    "import pandas as pd\n",
    "import config\n",
    "from pprint import pprint\n"
   ]
  },
  {
   "cell_type": "code",
   "execution_count": null,
   "metadata": {},
   "outputs": [],
   "source": [
    "# display all rows in dataframe\n",
    "pd.set_option('display.max_rows', None)\n",
    "\n",
    "# grab current date\n",
    "current_date = pd.Timestamp.today().date()\n"
   ]
  },
  {
   "cell_type": "code",
   "execution_count": 2,
   "metadata": {},
   "outputs": [],
   "source": [
    "# Authenticate with Spotify\n",
    "user_auth = spotipy.Spotify(auth_manager=SpotifyOAuth(\n",
    "    client_id=config.client,\n",
    "    client_secret=config.secret,\n",
    "    redirect_uri=config.redirect,\n",
    "    scope=config.scope\n",
    "))\n",
    "\n",
    "# Get current user's information\n",
    "current_user = user_auth.current_user()\n"
   ]
  },
  {
   "cell_type": "markdown",
   "metadata": {},
   "source": [
    "# Current User Top Aritsts"
   ]
  },
  {
   "cell_type": "code",
   "execution_count": null,
   "metadata": {},
   "outputs": [],
   "source": [
    "# time_range:  Valid options are: \n",
    "# 'short_term': Last 4 weeks\n",
    "# 'medium_term': Last 6 months\n",
    "# 'long_term': Overall listening history\n",
    "term = 'medium_term'\n",
    "\n",
    "# Get current user's recently played tracks\n",
    "current_user_top_artists = user_auth.current_user_top_artists(time_range = term, limit=50)\n",
    "\n",
    "\n",
    "# empty lists for all the important fields \n",
    "user_artist__name = []\n",
    "user_artist__genres = []\n",
    "user_artist__popularity = []\n",
    "user_artist__followers = []\n",
    "\n",
    "# return the top 50 artists\n",
    "for artist in current_user_top_artists['items'][:50]:\n",
    "\n",
    "    # grab artist name and append to list\n",
    "    artist_name = artist['name']\n",
    "    user_artist__name.append(artist_name)\n",
    "\n",
    "    # grab artist genre and append to list\n",
    "    artist_genres = artist['genres']\n",
    "    user_artist__genres.append(artist_genres)\n",
    " \n",
    "     # grab artist popularity and append to list\n",
    "    artist_popularity = artist['popularity']\n",
    "    user_artist__popularity.append(artist_popularity)\n",
    "\n",
    "     # grab artist followers and append to list\n",
    "    artist_followers = artist['followers']['total']\n",
    "    user_artist__followers.append(artist_followers)\n",
    "\n",
    "\n",
    "# dataframe used for visualization\n",
    "user_top_artist_df = pd.DataFrame(columns = ['run_date', 'time_range', 'name', 'genres', 'popularity', 'followers'])\n",
    "\n",
    "\n",
    "# appending data to dataframe for visualization, prints out all the songs in the playlist\n",
    "user_top_artist_df['name'] = user_artist__name\n",
    "user_top_artist_df['followers'] = user_artist__followers\n",
    "user_top_artist_df['genres'] = user_artist__genres\n",
    "user_top_artist_df['popularity'] = user_artist__popularity\n",
    "user_top_artist_df['run_date'] = current_date\n",
    "user_top_artist_df['time_range'] = term\n",
    "\n",
    "user_top_artist_df"
   ]
  },
  {
   "cell_type": "code",
   "execution_count": null,
   "metadata": {},
   "outputs": [
    {
     "name": "stdout",
     "output_type": "stream",
     "text": [
      "csvs/top_artists_6months__2024-11-17.csv\n"
     ]
    }
   ],
   "source": [
    "# saving data to csv\n",
    "user_top_filename = f'csvs/top_artists__{term}__{current_date}.csv'\n",
    "user_top_artist_df.to_csv(user_top_filename, index=False)"
   ]
  },
  {
   "cell_type": "markdown",
   "metadata": {},
   "source": [
    "# Current User Saved Albums"
   ]
  },
  {
   "cell_type": "code",
   "execution_count": null,
   "metadata": {},
   "outputs": [],
   "source": [
    "# empty lists for appending album data retrieved from api to dataframe\n",
    "user_album = []\n",
    "\n",
    "# grabbing first batch user saved albums from spotify api\n",
    "current_user_saved_albums = user_auth.current_user_saved_albums()\n",
    "user_album.extend(current_user_saved_albums['items'])\n",
    "\n",
    "# grabbing rest of user saved albums data with pagination\n",
    "while current_user_saved_albums['next']:\n",
    "    current_user_saved_albums = user_auth.next(current_user_saved_albums)\n",
    "    user_album.extend(current_user_saved_albums['items'])\n",
    "\n",
    "\n",
    "\n",
    "# empty lists for all the important fields \n",
    "user_album__artist = []\n",
    "user_album__name = []\n",
    "user_album__popularity = []\n",
    "user_album__releaseDate = []\n",
    "user_album__savedDatetime = []\n",
    "user_album__url = []\n",
    "\n",
    "# iterate through and append key datapoints\n",
    "for item in user_album:\n",
    "\n",
    "    # grab album artist and append to list\n",
    "    album__artist = item['album']['artists']\n",
    "    user_album__artist.append(album__artist[0]['name'])\n",
    "\n",
    "    # grab album name and append to list\n",
    "    album__name = item['album']['name']\n",
    "    user_album__name.append(album__name)\n",
    "\n",
    "    # grab album popularity and append to list\n",
    "    album__popularity = item['album']['popularity']\n",
    "    user_album__popularity.append(album__popularity)\n",
    "\n",
    "    # grab album release date and append to list\n",
    "    album__releaseDate = item['album']['release_date']\n",
    "    user_album__releaseDate.append(album__releaseDate)\n",
    "\n",
    "    # grab album saved date and append to list\n",
    "    album__savedDatetime = item['added_at']\n",
    "    user_album__savedDatetime.append(album__savedDatetime)\n",
    "\n",
    "    # grab album link and append to list\n",
    "    album__url = item['album']['external_urls']['spotify']\n",
    "    user_album__url.append(album__url)\n",
    "\n",
    "\n",
    "# dataframe used for visualization\n",
    "user_album_df = pd.DataFrame(columns = ['album', 'artist', 'releaseDate', 'savedDate', 'popularity', 'link'])\n",
    "\n",
    "# appending data to df for visualization, prints out all the songs in the playlist\n",
    "user_album_df['album'] = user_album__name\n",
    "user_album_df['artist'] = user_album__artist\n",
    "user_album_df['link'] = user_album__url\n",
    "user_album_df['popularity'] = user_album__popularity\n",
    "user_album_df['releaseDate'] = user_album__releaseDate\n",
    "user_album_df['savedDatetime'] = user_album__savedDatetime\n",
    "\n",
    "# converting saved datetime to date\n",
    "user_album_df['savedDatetime'] = pd.to_datetime(user_album_df['savedDatetime'])\n",
    "user_album_df['savedDate'] =  user_album_df['savedDatetime'].dt.date\n",
    "user_album_df\n",
    "\n",
    "# sorting df by artist\n",
    "user_album_df_sorted = user_album_df.sort_values(by='artist', ascending=True)\n",
    "user_album_df_sorted\n"
   ]
  },
  {
   "cell_type": "code",
   "execution_count": null,
   "metadata": {},
   "outputs": [],
   "source": [
    "# saving data to csv\n",
    "user_album_filename = f'csvs/saved_albums__{current_date}.csv'\n",
    "user_album_df_sorted.to_csv(user_album_filename, index=False)"
   ]
  },
  {
   "cell_type": "markdown",
   "metadata": {},
   "source": []
  },
  {
   "cell_type": "code",
   "execution_count": null,
   "metadata": {},
   "outputs": [],
   "source": []
  }
 ],
 "metadata": {
  "kernelspec": {
   "display_name": ".venv",
   "language": "python",
   "name": "python3"
  },
  "language_info": {
   "codemirror_mode": {
    "name": "ipython",
    "version": 3
   },
   "file_extension": ".py",
   "mimetype": "text/x-python",
   "name": "python",
   "nbconvert_exporter": "python",
   "pygments_lexer": "ipython3",
   "version": "3.11.9"
  }
 },
 "nbformat": 4,
 "nbformat_minor": 2
}
